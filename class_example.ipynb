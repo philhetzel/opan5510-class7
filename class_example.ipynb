{
 "cells": [
  {
   "cell_type": "markdown",
   "metadata": {},
   "source": [
    "# Class Example: Data Literacy with Polars\n",
    "\n",
    "Professor demonstration of business question translation and grain concepts\n",
    "\n",
    "## Learning Objectives\n",
    "1. Understand how business terms map to code operations\n",
    "2. Learn the concept of \"grain\" - what each row represents\n",
    "3. See how `group_by()` changes the grain of your data"
   ]
  },
  {
   "cell_type": "code",
   "execution_count": 1,
   "metadata": {},
   "outputs": [
    {
     "name": "stdout",
     "output_type": "stream",
     "text": [
      "Loading diamonds dataset...\n",
      "Dataset loaded successfully!\n"
     ]
    }
   ],
   "source": [
    "import polars as pl\n",
    "\n",
    "# Load the diamonds dataset\n",
    "print(\"Loading diamonds dataset...\")\n",
    "df = pl.read_csv('https://raw.githubusercontent.com/pycaret/pycaret/master/datasets/diamond.csv')\n",
    "print(\"Dataset loaded successfully!\")"
   ]
  },
  {
   "cell_type": "markdown",
   "metadata": {},
   "source": [
    "## Part 1: Understanding Our Data\n",
    "\n",
    "Let's first explore what data we have:"
   ]
  },
  {
   "cell_type": "code",
   "execution_count": null,
   "metadata": {},
   "outputs": [],
   "source": [
    "print(f\"Shape: {df.shape}\")\n",
    "print(f\"Columns: {df.columns}\")"
   ]
  },
  {
   "cell_type": "code",
   "execution_count": null,
   "metadata": {},
   "outputs": [],
   "source": [
    "# Display first 5 rows\n",
    "df.head()"
   ]
  },
  {
   "cell_type": "markdown",
   "metadata": {},
   "source": [
    "## Part 2: What is the GRAIN of this data?\n",
    "\n",
    "**Grain** = What each row represents\n",
    "\n",
    "Let's investigate:"
   ]
  },
  {
   "cell_type": "code",
   "execution_count": null,
   "metadata": {},
   "outputs": [],
   "source": [
    "print(f\"Total number of rows: {len(df)}\")\n",
    "print(\"\\nEach row represents: ONE DIAMOND\")\n",
    "print(\"This is our current grain: diamond-level data\")"
   ]
  },
  {
   "cell_type": "markdown",
   "metadata": {},
   "source": [
    "## Part 3: Business Question Translation\n",
    "\n",
    "Let's practice translating business questions into code:"
   ]
  },
  {
   "cell_type": "markdown",
   "metadata": {},
   "source": [
    "### Question 1: What is the TOTAL price of all diamonds?\n",
    "\n",
    "Keyword: **TOTAL** → `sum()`"
   ]
  },
  {
   "cell_type": "code",
   "execution_count": null,
   "metadata": {},
   "outputs": [],
   "source": [
    "total_price = df.select(pl.col(\"Price\").sum()).item()\n",
    "print(f\"Total price of all diamonds: ${total_price:,.2f}\")"
   ]
  },
  {
   "cell_type": "markdown",
   "metadata": {},
   "source": [
    "### Question 2: What is the AVERAGE carat size?\n",
    "\n",
    "Keyword: **AVERAGE** → `mean()`"
   ]
  },
  {
   "cell_type": "code",
   "execution_count": null,
   "metadata": {},
   "outputs": [],
   "source": [
    "avg_carat = df.select(pl.col(\"Carat Weight\").mean()).item()\n",
    "print(f\"Average carat size: {avg_carat:.2f} carats\")"
   ]
  },
  {
   "cell_type": "markdown",
   "metadata": {},
   "source": [
    "### Question 3: HOW MANY diamonds do we have?\n",
    "\n",
    "Keywords: **HOW MANY** → `len()` or `count()`"
   ]
  },
  {
   "cell_type": "code",
   "execution_count": null,
   "metadata": {},
   "outputs": [],
   "source": [
    "count = len(df)\n",
    "print(f\"Number of diamonds: {count}\")"
   ]
  },
  {
   "cell_type": "markdown",
   "metadata": {},
   "source": [
    "### Question 4: What is the HIGHEST price?\n",
    "\n",
    "Keyword: **HIGHEST** → `max()`"
   ]
  },
  {
   "cell_type": "code",
   "execution_count": null,
   "metadata": {},
   "outputs": [],
   "source": [
    "max_price = df.select(pl.col(\"Price\").max()).item()\n",
    "print(f\"Highest price: ${max_price:,.2f}\")"
   ]
  },
  {
   "cell_type": "code",
   "source": "color_counts = df[\"Color\"].value_counts().sort(\"count\", descending=True)\nprint(\"Color frequency (from most to least common):\")\ncolor_counts",
   "metadata": {},
   "execution_count": null,
   "outputs": []
  },
  {
   "cell_type": "markdown",
   "source": "### Question 9: What is the MOST COMMON color?\n\nKeywords: **MOST COMMON/FREQUENT** → `value_counts()`",
   "metadata": {}
  },
  {
   "cell_type": "code",
   "source": "# Count unique values\nunique_count = df.select(pl.col(\"Clarity\").n_unique()).item()\nprint(f\"Number of unique clarity grades: {unique_count}\")\n\n# Show what they are\nunique_values = df.select(pl.col(\"Clarity\").unique().sort()).to_series().to_list()\nprint(f\"The clarity grades are: {unique_values}\")",
   "metadata": {},
   "execution_count": null,
   "outputs": []
  },
  {
   "cell_type": "markdown",
   "source": "### Question 8: How many UNIQUE/DISTINCT clarity grades exist?\n\nKeywords: **UNIQUE/DISTINCT** → `n_unique()` or `unique()`",
   "metadata": {}
  },
  {
   "cell_type": "code",
   "source": "heavy_diamonds = df.filter(pl.col(\"Carat Weight\") >= 2)\nprint(f\"Number of diamonds that weigh at least 2 carats: {len(heavy_diamonds)}\")\nprint(\"\\nFirst 5 heavy diamonds:\")\nheavy_diamonds.head().select([\"Cut\", \"Color\", \"Clarity\", \"Carat Weight\", \"Price\"])",
   "metadata": {},
   "execution_count": null,
   "outputs": []
  },
  {
   "cell_type": "markdown",
   "source": "### Question 7: Show diamonds that weigh AT LEAST 2 carats\n\nKeywords: **AT LEAST** → `filter()` with >= condition",
   "metadata": {}
  },
  {
   "cell_type": "code",
   "source": "expensive_count = df.filter(pl.col(\"Price\") > 10000).height\ntotal_count = df.height\npercentage = (expensive_count / total_count) * 100\n\nprint(f\"Diamonds over $10,000: {expensive_count}\")\nprint(f\"Total diamonds: {total_count}\")\nprint(f\"Percentage: {percentage:.2f}%\")",
   "metadata": {},
   "execution_count": null,
   "outputs": []
  },
  {
   "cell_type": "markdown",
   "source": "### Question 6: What PERCENTAGE of diamonds cost more than $10,000?\n\nKeywords: **PERCENTAGE** → calculation with filter and division",
   "metadata": {}
  },
  {
   "cell_type": "code",
   "source": "top_5 = df.sort(\"Price\", descending=True).head(5)\nprint(\"Top 5 most expensive diamonds:\")\ntop_5.select([\"Cut\", \"Color\", \"Clarity\", \"Carat Weight\", \"Price\"])",
   "metadata": {},
   "execution_count": null,
   "outputs": []
  },
  {
   "cell_type": "markdown",
   "source": "## Key Takeaways\n\n1. **Business words map to code operations**\n   - \"total\" → `sum()`\n   - \"average\" → `mean()`\n   - \"for each\" / \"by\" → `group_by()`\n   - \"top/bottom N\" → `sort().head(n)` / `sort().tail(n)`\n   - \"percentage\" → calculation with filter and division\n   - \"at least\" / \"at most\" → `filter()` with >= or <=\n   - \"unique\" / \"distinct\" → `n_unique()` or `unique()`\n   - \"most common\" / \"frequent\" → `value_counts()`\n\n2. **Grain changes with group_by()**\n   - Original grain: one diamond per row\n   - After `group_by('Cut')`: one cut type per row\n   - After `group_by(['Cut', 'Color'])`: one cut-color combination per row\n\n3. **Always know your grain before aggregating!**",
   "metadata": {}
  },
  {
   "cell_type": "markdown",
   "metadata": {},
   "source": [
    "## Part 4: Using GROUP BY - Changing the Grain\n",
    "\n",
    "When we use `group_by()`, we **change what each row represents**"
   ]
  },
  {
   "cell_type": "markdown",
   "metadata": {},
   "source": [
    "### Question 5: What is the average price FOR EACH cut quality?\n",
    "\n",
    "Keywords: \n",
    "- **AVERAGE** → `mean()`\n",
    "- **FOR EACH** → `group_by()`"
   ]
  },
  {
   "cell_type": "code",
   "execution_count": null,
   "metadata": {},
   "outputs": [],
   "source": [
    "print(\"BEFORE group_by: Grain = one diamond per row\")\n",
    "print(f\"Number of rows: {len(df)}\")"
   ]
  },
  {
   "cell_type": "code",
   "execution_count": 2,
   "metadata": {},
   "outputs": [
    {
     "name": "stdout",
     "output_type": "stream",
     "text": [
      "AFTER group_by: Grain = one cut quality per row\n",
      "Number of rows: 5\n"
     ]
    },
    {
     "data": {
      "text/html": [
       "<div><style>\n",
       ".dataframe > thead > tr,\n",
       ".dataframe > tbody > tr {\n",
       "  text-align: right;\n",
       "  white-space: pre-wrap;\n",
       "}\n",
       "</style>\n",
       "<small>shape: (5, 3)</small><table border=\"1\" class=\"dataframe\"><thead><tr><th>Cut</th><th>avg_price</th><th>count</th></tr><tr><td>str</td><td>f64</td><td>u32</td></tr></thead><tbody><tr><td>&quot;Ideal&quot;</td><td>13127.331185</td><td>2482</td></tr><tr><td>&quot;Signature-Ideal&quot;</td><td>11541.525692</td><td>253</td></tr><tr><td>&quot;Very Good&quot;</td><td>11484.69687</td><td>2428</td></tr><tr><td>&quot;Good&quot;</td><td>9326.65678</td><td>708</td></tr><tr><td>&quot;Fair&quot;</td><td>5886.178295</td><td>129</td></tr></tbody></table></div>"
      ],
      "text/plain": [
       "shape: (5, 3)\n",
       "┌─────────────────┬──────────────┬───────┐\n",
       "│ Cut             ┆ avg_price    ┆ count │\n",
       "│ ---             ┆ ---          ┆ ---   │\n",
       "│ str             ┆ f64          ┆ u32   │\n",
       "╞═════════════════╪══════════════╪═══════╡\n",
       "│ Ideal           ┆ 13127.331185 ┆ 2482  │\n",
       "│ Signature-Ideal ┆ 11541.525692 ┆ 253   │\n",
       "│ Very Good       ┆ 11484.69687  ┆ 2428  │\n",
       "│ Good            ┆ 9326.65678   ┆ 708   │\n",
       "│ Fair            ┆ 5886.178295  ┆ 129   │\n",
       "└─────────────────┴──────────────┴───────┘"
      ]
     },
     "execution_count": 2,
     "metadata": {},
     "output_type": "execute_result"
    }
   ],
   "source": [
    "result = df.group_by(\"Cut\").agg(\n",
    "    pl.col(\"Price\").mean().alias(\"avg_price\"),\n",
    "    pl.len().alias(\"count\")\n",
    ").sort(\"avg_price\", descending=True)\n",
    "\n",
    "print(\"AFTER group_by: Grain = one cut quality per row\")\n",
    "print(f\"Number of rows: {len(result)}\")\n",
    "result"
   ]
  },
  {
   "cell_type": "markdown",
   "metadata": {},
   "source": [
    "### Question 6: What is the total value of diamonds BY color?\n",
    "\n",
    "Keywords:\n",
    "- **TOTAL** → `sum()`\n",
    "- **BY** → `group_by()`"
   ]
  },
  {
   "cell_type": "code",
   "execution_count": null,
   "metadata": {},
   "outputs": [],
   "source": [
    "result2 = df.group_by(\"Color\").agg(\n",
    "    pl.col(\"Price\").sum().alias(\"total_value\"),\n",
    "    pl.len().alias(\"number_of_diamonds\")\n",
    ").sort(\"Color\")\n",
    "\n",
    "print(\"Grain has changed to: one color per row\")\n",
    "result2"
   ]
  },
  {
   "cell_type": "markdown",
   "metadata": {},
   "source": [
    "## Part 5: Multiple Group By - Complex Grain\n",
    "\n",
    "We can group by multiple columns, creating more specific grains:"
   ]
  },
  {
   "cell_type": "markdown",
   "metadata": {},
   "source": [
    "### Question 7: What is the average price FOR EACH cut and color combination?"
   ]
  },
  {
   "cell_type": "code",
   "execution_count": null,
   "metadata": {},
   "outputs": [],
   "source": [
    "result3 = df.group_by([\"Cut\", \"Color\"]).agg(\n",
    "    pl.col(\"Price\").mean().alias(\"avg_price\"),\n",
    "    pl.len().alias(\"count\")\n",
    ").sort([\"Cut\", \"Color\"])\n",
    "\n",
    "print(\"NEW GRAIN: one row per cut-color combination\")\n",
    "print(f\"Number of unique combinations: {len(result3)}\")\n",
    "result3.head(10)"
   ]
  },
  {
   "cell_type": "markdown",
   "metadata": {},
   "source": [
    "## Key Takeaways\n",
    "\n",
    "1. **Business words map to code operations**\n",
    "   - \"total\" → `sum()`\n",
    "   - \"average\" → `mean()`\n",
    "   - \"for each\" / \"by\" → `group_by()`\n",
    "\n",
    "2. **Grain changes with group_by()**\n",
    "   - Original grain: one diamond per row\n",
    "   - After `group_by('Cut')`: one cut type per row\n",
    "   - After `group_by(['Cut', 'Color'])`: one cut-color combination per row\n",
    "\n",
    "3. **Always know your grain before aggregating!**"
   ]
  }
 ],
 "metadata": {
  "kernelspec": {
   "display_name": "opan5510-class5",
   "language": "python",
   "name": "python3"
  },
  "language_info": {
   "codemirror_mode": {
    "name": "ipython",
    "version": 3
   },
   "file_extension": ".py",
   "mimetype": "text/x-python",
   "name": "python",
   "nbconvert_exporter": "python",
   "pygments_lexer": "ipython3",
   "version": "3.12.10"
  }
 },
 "nbformat": 4,
 "nbformat_minor": 4
}