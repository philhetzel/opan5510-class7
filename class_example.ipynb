{
  "cells": [
    {
      "cell_type": "markdown",
      "metadata": {
        "id": "HrOXCGN2SiEq"
      },
      "source": [
        "# Class Example: Data Literacy with Polars\n",
        "\n",
        "Professor demonstration of business question translation and grain concepts\n",
        "\n",
        "## Learning Objectives\n",
        "1. Understand how business terms map to code operations\n",
        "2. Learn the concept of \"grain\" - what each row represents\n",
        "3. See how `group_by()` changes the grain of your data"
      ]
    },
    {
      "cell_type": "code",
      "execution_count": null,
      "metadata": {
        "id": "XjDrxmYASiEq",
        "outputId": "1e2a6f9e-259d-414a-9fd7-b83342988b66",
        "colab": {
          "base_uri": "https://localhost:8080/"
        }
      },
      "outputs": [
        {
          "output_type": "stream",
          "name": "stdout",
          "text": [
            "Loading diamonds dataset...\n",
            "Dataset loaded successfully!\n"
          ]
        }
      ],
      "source": [
        "import polars as pl\n",
        "\n",
        "# Load the diamonds dataset\n",
        "print(\"Loading diamonds dataset...\")\n",
        "df = pl.read_csv('https://raw.githubusercontent.com/pycaret/pycaret/master/datasets/diamond.csv')\n",
        "print(\"Dataset loaded successfully!\")"
      ]
    },
    {
      "cell_type": "markdown",
      "metadata": {
        "id": "oR5Ynqp8SiEr"
      },
      "source": [
        "## Part 1: Understanding Our Data\n",
        "\n",
        "Let's first explore what data we have:"
      ]
    },
    {
      "cell_type": "code",
      "execution_count": null,
      "metadata": {
        "id": "OVPrfbncSiEr",
        "outputId": "7525546f-d0fd-4d23-be3f-ef91342180d8",
        "colab": {
          "base_uri": "https://localhost:8080/"
        }
      },
      "outputs": [
        {
          "output_type": "stream",
          "name": "stdout",
          "text": [
            "Shape: (6000, 8)\n",
            "Columns: ['Carat Weight', 'Cut', 'Color', 'Clarity', 'Polish', 'Symmetry', 'Report', 'Price']\n"
          ]
        }
      ],
      "source": [
        "print(f\"Shape: {df.shape}\")\n",
        "print(f\"Columns: {df.columns}\")"
      ]
    },
    {
      "cell_type": "code",
      "execution_count": null,
      "metadata": {
        "id": "GtglWTIgSiEr",
        "outputId": "70a43449-54e6-4b0e-8385-171172126fee",
        "colab": {
          "base_uri": "https://localhost:8080/",
          "height": 255
        }
      },
      "outputs": [
        {
          "output_type": "execute_result",
          "data": {
            "text/plain": [
              "shape: (5, 8)\n",
              "┌──────────────┬───────┬───────┬─────────┬────────┬──────────┬────────┬───────┐\n",
              "│ Carat Weight ┆ Cut   ┆ Color ┆ Clarity ┆ Polish ┆ Symmetry ┆ Report ┆ Price │\n",
              "│ ---          ┆ ---   ┆ ---   ┆ ---     ┆ ---    ┆ ---      ┆ ---    ┆ ---   │\n",
              "│ f64          ┆ str   ┆ str   ┆ str     ┆ str    ┆ str      ┆ str    ┆ i64   │\n",
              "╞══════════════╪═══════╪═══════╪═════════╪════════╪══════════╪════════╪═══════╡\n",
              "│ 1.1          ┆ Ideal ┆ H     ┆ SI1     ┆ VG     ┆ EX       ┆ GIA    ┆ 5169  │\n",
              "│ 0.83         ┆ Ideal ┆ H     ┆ VS1     ┆ ID     ┆ ID       ┆ AGSL   ┆ 3470  │\n",
              "│ 0.85         ┆ Ideal ┆ H     ┆ SI1     ┆ EX     ┆ EX       ┆ GIA    ┆ 3183  │\n",
              "│ 0.91         ┆ Ideal ┆ E     ┆ SI1     ┆ VG     ┆ VG       ┆ GIA    ┆ 4370  │\n",
              "│ 0.83         ┆ Ideal ┆ G     ┆ SI1     ┆ EX     ┆ EX       ┆ GIA    ┆ 3171  │\n",
              "└──────────────┴───────┴───────┴─────────┴────────┴──────────┴────────┴───────┘"
            ],
            "text/html": [
              "<div><style>\n",
              ".dataframe > thead > tr,\n",
              ".dataframe > tbody > tr {\n",
              "  text-align: right;\n",
              "  white-space: pre-wrap;\n",
              "}\n",
              "</style>\n",
              "<small>shape: (5, 8)</small><table border=\"1\" class=\"dataframe\"><thead><tr><th>Carat Weight</th><th>Cut</th><th>Color</th><th>Clarity</th><th>Polish</th><th>Symmetry</th><th>Report</th><th>Price</th></tr><tr><td>f64</td><td>str</td><td>str</td><td>str</td><td>str</td><td>str</td><td>str</td><td>i64</td></tr></thead><tbody><tr><td>1.1</td><td>&quot;Ideal&quot;</td><td>&quot;H&quot;</td><td>&quot;SI1&quot;</td><td>&quot;VG&quot;</td><td>&quot;EX&quot;</td><td>&quot;GIA&quot;</td><td>5169</td></tr><tr><td>0.83</td><td>&quot;Ideal&quot;</td><td>&quot;H&quot;</td><td>&quot;VS1&quot;</td><td>&quot;ID&quot;</td><td>&quot;ID&quot;</td><td>&quot;AGSL&quot;</td><td>3470</td></tr><tr><td>0.85</td><td>&quot;Ideal&quot;</td><td>&quot;H&quot;</td><td>&quot;SI1&quot;</td><td>&quot;EX&quot;</td><td>&quot;EX&quot;</td><td>&quot;GIA&quot;</td><td>3183</td></tr><tr><td>0.91</td><td>&quot;Ideal&quot;</td><td>&quot;E&quot;</td><td>&quot;SI1&quot;</td><td>&quot;VG&quot;</td><td>&quot;VG&quot;</td><td>&quot;GIA&quot;</td><td>4370</td></tr><tr><td>0.83</td><td>&quot;Ideal&quot;</td><td>&quot;G&quot;</td><td>&quot;SI1&quot;</td><td>&quot;EX&quot;</td><td>&quot;EX&quot;</td><td>&quot;GIA&quot;</td><td>3171</td></tr></tbody></table></div>"
            ]
          },
          "metadata": {},
          "execution_count": 13
        }
      ],
      "source": [
        "# Display first 5 rows\n",
        "df.head()"
      ]
    },
    {
      "cell_type": "markdown",
      "metadata": {
        "id": "CQeQyAmISiEr"
      },
      "source": [
        "## Part 2: What is the GRAIN of this data?\n",
        "\n",
        "**Grain** = What each row represents\n",
        "\n",
        "Let's investigate:"
      ]
    },
    {
      "cell_type": "code",
      "execution_count": null,
      "metadata": {
        "id": "27jvEKDySiEr",
        "outputId": "d7725af7-9785-40fd-c99c-b57a780c2583",
        "colab": {
          "base_uri": "https://localhost:8080/"
        }
      },
      "outputs": [
        {
          "output_type": "stream",
          "name": "stdout",
          "text": [
            "Total number of rows: 6000\n",
            "\n",
            "Each row represents: ONE DIAMOND\n",
            "This is our current grain: diamond-level data\n"
          ]
        }
      ],
      "source": [
        "print(f\"Total number of rows: {len(df)}\")\n",
        "print(\"\\nEach row represents: ONE DIAMOND\")\n",
        "print(\"This is our current grain: diamond-level data\")"
      ]
    },
    {
      "cell_type": "markdown",
      "metadata": {
        "id": "ufcNId9-SiEr"
      },
      "source": [
        "## Part 3: Business Question Translation\n",
        "\n",
        "Let's practice translating business questions into code:"
      ]
    },
    {
      "cell_type": "markdown",
      "metadata": {
        "id": "3y23WJ6kSiEr"
      },
      "source": [
        "### Question 1: What is the TOTAL price of all diamonds?\n",
        "\n",
        "Keyword: **TOTAL** → `sum()`"
      ]
    },
    {
      "cell_type": "code",
      "execution_count": null,
      "metadata": {
        "id": "aHRkdXQWSiEr",
        "outputId": "b5c8e335-859c-48a2-e8db-c08ff59d9d7e",
        "colab": {
          "base_uri": "https://localhost:8080/"
        }
      },
      "outputs": [
        {
          "output_type": "stream",
          "name": "stdout",
          "text": [
            "Total price of all diamonds: $70,749,476.00\n"
          ]
        }
      ],
      "source": [
        "total_price = df.select(pl.col(\"Price\").sum()).item()\n",
        "print(f\"Total price of all diamonds: ${total_price:,.2f}\")"
      ]
    },
    {
      "cell_type": "markdown",
      "metadata": {
        "id": "qRapE7KASiEr"
      },
      "source": [
        "### Question 2: What is the AVERAGE carat size?\n",
        "\n",
        "Keyword: **AVERAGE** → `mean()`"
      ]
    },
    {
      "cell_type": "code",
      "execution_count": null,
      "metadata": {
        "id": "Xn9gv3s4SiEr",
        "outputId": "ab80bbea-33c6-4ba8-d919-284cdf4237ca",
        "colab": {
          "base_uri": "https://localhost:8080/"
        }
      },
      "outputs": [
        {
          "output_type": "stream",
          "name": "stdout",
          "text": [
            "Average carat size: 1.33 carats\n"
          ]
        }
      ],
      "source": [
        "avg_carat = df.select(pl.col(\"Carat Weight\").mean()).item()\n",
        "print(f\"Average carat size: {avg_carat:.2f} carats\")"
      ]
    },
    {
      "cell_type": "markdown",
      "metadata": {
        "id": "vHSUU1Z9SiEr"
      },
      "source": [
        "### Question 3: HOW MANY diamonds do we have?\n",
        "\n",
        "Keywords: **HOW MANY** → `len()` or `count()`"
      ]
    },
    {
      "cell_type": "code",
      "execution_count": null,
      "metadata": {
        "id": "tT-dc1UiSiEr",
        "outputId": "a6537e50-1c88-463f-ccd8-3fabfd8446f2",
        "colab": {
          "base_uri": "https://localhost:8080/"
        }
      },
      "outputs": [
        {
          "output_type": "stream",
          "name": "stdout",
          "text": [
            "Number of diamonds: 6000\n"
          ]
        }
      ],
      "source": [
        "count = len(df)\n",
        "print(f\"Number of diamonds: {count}\")"
      ]
    },
    {
      "cell_type": "markdown",
      "metadata": {
        "id": "im8_3hQCSiEr"
      },
      "source": [
        "### Question 4: What is the HIGHEST price?\n",
        "\n",
        "Keyword: **HIGHEST** → `max()`"
      ]
    },
    {
      "cell_type": "code",
      "execution_count": null,
      "metadata": {
        "id": "79lBReKKSiEr",
        "outputId": "c7b2cd42-58ac-4ef7-962c-dd769e91eaa6",
        "colab": {
          "base_uri": "https://localhost:8080/"
        }
      },
      "outputs": [
        {
          "output_type": "stream",
          "name": "stdout",
          "text": [
            "Highest price: $101,561.00\n"
          ]
        }
      ],
      "source": [
        "max_price = df.select(pl.col(\"Price\").max()).item()\n",
        "print(f\"Highest price: ${max_price:,.2f}\")"
      ]
    },
    {
      "cell_type": "markdown",
      "source": [
        "### Question 5: What is the MOST COMMON color?\n",
        "\n",
        "Keywords: **MOST COMMON/FREQUENT/HOW MANY** → `group_by`, `agg`, `count()`"
      ],
      "metadata": {
        "id": "uAwFEuvpSiEr"
      }
    },
    {
      "cell_type": "code",
      "source": [
        "color_counts = df.group_by(pl.col(\"Color\")).agg(pl.col(\"Color\").count().alias(\"count\")).sort(\"count\", descending=True)\n",
        "print(\"Color frequency (from most to least common):\")\n",
        "color_counts"
      ],
      "metadata": {
        "id": "p7BQmXb_SiEr",
        "outputId": "ec02f403-4f2f-46c5-81c8-5c165eca2482",
        "colab": {
          "base_uri": "https://localhost:8080/",
          "height": 304
        }
      },
      "execution_count": 73,
      "outputs": [
        {
          "output_type": "stream",
          "name": "stdout",
          "text": [
            "Color frequency (from most to least common):\n"
          ]
        },
        {
          "output_type": "execute_result",
          "data": {
            "text/plain": [
              "shape: (6, 2)\n",
              "┌───────┬───────┐\n",
              "│ Color ┆ count │\n",
              "│ ---   ┆ ---   │\n",
              "│ str   ┆ u32   │\n",
              "╞═══════╪═══════╡\n",
              "│ G     ┆ 1501  │\n",
              "│ H     ┆ 1079  │\n",
              "│ F     ┆ 1013  │\n",
              "│ I     ┆ 968   │\n",
              "│ E     ┆ 778   │\n",
              "│ D     ┆ 661   │\n",
              "└───────┴───────┘"
            ],
            "text/html": [
              "<div><style>\n",
              ".dataframe > thead > tr,\n",
              ".dataframe > tbody > tr {\n",
              "  text-align: right;\n",
              "  white-space: pre-wrap;\n",
              "}\n",
              "</style>\n",
              "<small>shape: (6, 2)</small><table border=\"1\" class=\"dataframe\"><thead><tr><th>Color</th><th>count</th></tr><tr><td>str</td><td>u32</td></tr></thead><tbody><tr><td>&quot;G&quot;</td><td>1501</td></tr><tr><td>&quot;H&quot;</td><td>1079</td></tr><tr><td>&quot;F&quot;</td><td>1013</td></tr><tr><td>&quot;I&quot;</td><td>968</td></tr><tr><td>&quot;E&quot;</td><td>778</td></tr><tr><td>&quot;D&quot;</td><td>661</td></tr></tbody></table></div>"
            ]
          },
          "metadata": {},
          "execution_count": 73
        }
      ]
    },
    {
      "cell_type": "markdown",
      "source": [
        "### Question 6: How many UNIQUE/DISTINCT clarity grades exist?\n",
        "\n",
        "Keywords: **UNIQUE/DISTINCT** → `n_unique()` or `unique()`"
      ],
      "metadata": {
        "id": "AFMyx91sSiEs"
      }
    },
    {
      "cell_type": "code",
      "source": [
        "# Count unique values\n",
        "unique_count = df.select(pl.col(\"Clarity\").n_unique()).item()\n",
        "print(f\"Number of unique clarity grades: {unique_count}\")\n",
        "\n",
        "# Show what they are\n",
        "unique_values = df.select(pl.col(\"Clarity\").unique().sort()).to_series().to_list()\n",
        "print(f\"The clarity grades are: {unique_values}\")"
      ],
      "metadata": {
        "id": "v_i86abiSiEs"
      },
      "execution_count": null,
      "outputs": []
    },
    {
      "cell_type": "markdown",
      "source": [
        "### Question 7: Show diamonds that weigh AT LEAST 2 carats\n",
        "\n",
        "Keywords: **AT LEAST** → `filter()` with >= condition"
      ],
      "metadata": {
        "id": "NBVPIRgvSiEs"
      }
    },
    {
      "cell_type": "code",
      "source": [
        "heavy_diamonds = df.filter(pl.col(\"Carat Weight\") >= 2)\n",
        "print(f\"Number of diamonds that weigh at least 2 carats: {len(heavy_diamonds)}\")\n",
        "print(\"\\nFirst 5 heavy diamonds:\")\n",
        "heavy_diamonds.head().select([\"Cut\", \"Color\", \"Clarity\", \"Carat Weight\", \"Price\"])"
      ],
      "metadata": {
        "id": "ZH5Q8V9SSiEs"
      },
      "execution_count": null,
      "outputs": []
    },
    {
      "cell_type": "markdown",
      "source": [
        "### Question 8: What PERCENTAGE of diamonds cost more than $10,000?\n",
        "\n",
        "Keywords: **PERCENTAGE** → calculation with filter and division"
      ],
      "metadata": {
        "id": "vtfJvPcFSiEs"
      }
    },
    {
      "cell_type": "code",
      "source": [
        "expensive_count = df.filter(pl.col(\"Price\") > 10000).height\n",
        "total_count = df.height\n",
        "percentage = (expensive_count / total_count) * 100\n",
        "\n",
        "print(f\"Diamonds over $10,000: {expensive_count}\")\n",
        "print(f\"Total diamonds: {total_count}\")\n",
        "print(f\"Percentage: {percentage:.2f}%\")"
      ],
      "metadata": {
        "id": "89P62aUKSiEs"
      },
      "execution_count": null,
      "outputs": []
    },
    {
      "cell_type": "code",
      "source": [
        "top_5 = df.sort(\"Price\", descending=True).head(5)\n",
        "print(\"Top 5 most expensive diamonds:\")\n",
        "top_5.select([\"Cut\", \"Color\", \"Clarity\", \"Carat Weight\", \"Price\"])"
      ],
      "metadata": {
        "id": "_8OKPw1_SiEs"
      },
      "execution_count": null,
      "outputs": []
    },
    {
      "cell_type": "markdown",
      "source": [
        "## Key Takeaways\n",
        "\n",
        "1. **Business words map to code operations**\n",
        "   - \"total\" → `sum()`\n",
        "   - \"average\" → `mean()`\n",
        "   - \"for each\" / \"by\" → `group_by()`\n",
        "   - \"top/bottom N\" → `sort().head(n)` / `sort().tail(n)`\n",
        "   - \"percentage\" → calculation with filter and division\n",
        "   - \"at least\" / \"at most\" → `filter()` with >= or <=\n",
        "   - \"unique\" / \"distinct\" → `n_unique()` or `unique()`\n",
        "   - \"most common\" / \"frequent\"/\"how many\" → `group_by()`, `agg()`, `count()`\n",
        "\n",
        "2. **Grain changes with group_by()**\n",
        "   - Original grain: one diamond per row\n",
        "   - After `group_by('Cut')`: one cut type per row\n",
        "   - After `group_by(['Cut', 'Color'])`: one cut-color combination per row\n",
        "\n",
        "3. **Always know your grain before aggregating!**"
      ],
      "metadata": {
        "id": "M5FiZ4WGSiEs"
      }
    },
    {
      "cell_type": "markdown",
      "metadata": {
        "id": "3kQgbFj9SiEs"
      },
      "source": [
        "## Part 4: Using GROUP BY - Changing the Grain\n",
        "\n",
        "When we use `group_by()`, we **change what each row represents**"
      ]
    },
    {
      "cell_type": "markdown",
      "metadata": {
        "id": "tRib7MqZSiEs"
      },
      "source": [
        "### Question 9: What is the average price FOR EACH cut quality?\n",
        "\n",
        "Keywords:\n",
        "- **AVERAGE** → `mean()`\n",
        "- **FOR EACH** → `group_by()`"
      ]
    },
    {
      "cell_type": "code",
      "execution_count": null,
      "metadata": {
        "id": "t307bjStSiEs"
      },
      "outputs": [],
      "source": [
        "print(\"BEFORE group_by: Grain = one diamond per row\")\n",
        "print(f\"Number of rows: {len(df)}\")"
      ]
    },
    {
      "cell_type": "code",
      "execution_count": null,
      "metadata": {
        "id": "V-P6H5xzSiEs",
        "outputId": "4a9a7199-23e1-476c-f3c1-4c93c46d850b"
      },
      "outputs": [
        {
          "name": "stdout",
          "output_type": "stream",
          "text": [
            "AFTER group_by: Grain = one cut quality per row\n",
            "Number of rows: 5\n"
          ]
        },
        {
          "data": {
            "text/html": [
              "<div><style>\n",
              ".dataframe > thead > tr,\n",
              ".dataframe > tbody > tr {\n",
              "  text-align: right;\n",
              "  white-space: pre-wrap;\n",
              "}\n",
              "</style>\n",
              "<small>shape: (5, 3)</small><table border=\"1\" class=\"dataframe\"><thead><tr><th>Cut</th><th>avg_price</th><th>count</th></tr><tr><td>str</td><td>f64</td><td>u32</td></tr></thead><tbody><tr><td>&quot;Ideal&quot;</td><td>13127.331185</td><td>2482</td></tr><tr><td>&quot;Signature-Ideal&quot;</td><td>11541.525692</td><td>253</td></tr><tr><td>&quot;Very Good&quot;</td><td>11484.69687</td><td>2428</td></tr><tr><td>&quot;Good&quot;</td><td>9326.65678</td><td>708</td></tr><tr><td>&quot;Fair&quot;</td><td>5886.178295</td><td>129</td></tr></tbody></table></div>"
            ],
            "text/plain": [
              "shape: (5, 3)\n",
              "┌─────────────────┬──────────────┬───────┐\n",
              "│ Cut             ┆ avg_price    ┆ count │\n",
              "│ ---             ┆ ---          ┆ ---   │\n",
              "│ str             ┆ f64          ┆ u32   │\n",
              "╞═════════════════╪══════════════╪═══════╡\n",
              "│ Ideal           ┆ 13127.331185 ┆ 2482  │\n",
              "│ Signature-Ideal ┆ 11541.525692 ┆ 253   │\n",
              "│ Very Good       ┆ 11484.69687  ┆ 2428  │\n",
              "│ Good            ┆ 9326.65678   ┆ 708   │\n",
              "│ Fair            ┆ 5886.178295  ┆ 129   │\n",
              "└─────────────────┴──────────────┴───────┘"
            ]
          },
          "execution_count": 2,
          "metadata": {},
          "output_type": "execute_result"
        }
      ],
      "source": [
        "result = df.group_by(\"Cut\").agg(\n",
        "    pl.col(\"Price\").mean().alias(\"avg_price\"),\n",
        "    pl.len().alias(\"count\")\n",
        ").sort(\"avg_price\", descending=True)\n",
        "\n",
        "print(\"AFTER group_by: Grain = one cut quality per row\")\n",
        "print(f\"Number of rows: {len(result)}\")\n",
        "result"
      ]
    },
    {
      "cell_type": "markdown",
      "metadata": {
        "id": "-Td3nK4BSiEs"
      },
      "source": [
        "### Question 10: What is the total value of diamonds BY color?\n",
        "\n",
        "Keywords:\n",
        "- **TOTAL** → `sum()`\n",
        "- **BY** → `group_by()`"
      ]
    },
    {
      "cell_type": "code",
      "execution_count": null,
      "metadata": {
        "id": "e9ufe-6hSiEs"
      },
      "outputs": [],
      "source": [
        "result2 = df.group_by(\"Color\").agg(\n",
        "    pl.col(\"Price\").sum().alias(\"total_value\"),\n",
        "    pl.len().alias(\"number_of_diamonds\")\n",
        ").sort(\"Color\")\n",
        "\n",
        "print(\"Grain has changed to: one color per row\")\n",
        "result2"
      ]
    },
    {
      "cell_type": "markdown",
      "metadata": {
        "id": "e4VW46sMSiEs"
      },
      "source": [
        "## Part 5: Multiple Group By - Complex Grain\n",
        "\n",
        "We can group by multiple columns, creating more specific grains:"
      ]
    },
    {
      "cell_type": "markdown",
      "metadata": {
        "id": "YIHY826YSiEs"
      },
      "source": [
        "### Question 11: What is the average price FOR EACH cut and color combination?"
      ]
    },
    {
      "cell_type": "code",
      "execution_count": null,
      "metadata": {
        "id": "R_kX_CPHSiEs"
      },
      "outputs": [],
      "source": [
        "result3 = df.group_by([\"Cut\", \"Color\"]).agg(\n",
        "    pl.col(\"Price\").mean().alias(\"avg_price\"),\n",
        "    pl.len().alias(\"count\")\n",
        ").sort([\"Cut\", \"Color\"])\n",
        "\n",
        "print(\"NEW GRAIN: one row per cut-color combination\")\n",
        "print(f\"Number of unique combinations: {len(result3)}\")\n",
        "result3.head(10)"
      ]
    },
    {
      "cell_type": "markdown",
      "metadata": {
        "id": "_LeUrAuqSiEs"
      },
      "source": [
        "## Key Takeaways\n",
        "\n",
        "1. **Business words map to code operations**\n",
        "   - \"total\" → `sum()`\n",
        "   - \"average\" → `mean()`\n",
        "   - \"for each\" / \"by\" → `group_by()`\n",
        "\n",
        "2. **Grain changes with group_by()**\n",
        "   - Original grain: one diamond per row\n",
        "   - After `group_by('Cut')`: one cut type per row\n",
        "   - After `group_by(['Cut', 'Color'])`: one cut-color combination per row\n",
        "\n",
        "3. **Always know your grain before aggregating!**"
      ]
    }
  ],
  "metadata": {
    "kernelspec": {
      "display_name": "opan5510-class5",
      "language": "python",
      "name": "python3"
    },
    "language_info": {
      "codemirror_mode": {
        "name": "ipython",
        "version": 3
      },
      "file_extension": ".py",
      "mimetype": "text/x-python",
      "name": "python",
      "nbconvert_exporter": "python",
      "pygments_lexer": "ipython3",
      "version": "3.12.10"
    },
    "colab": {
      "provenance": []
    }
  },
  "nbformat": 4,
  "nbformat_minor": 0
}